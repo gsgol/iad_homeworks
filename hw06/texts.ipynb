{
 "cells": [
  {
   "cell_type": "markdown",
   "metadata": {},
   "source": [
    "# Домашнее задание 6: классификация текстов"
   ]
  },
  {
   "cell_type": "markdown",
   "metadata": {},
   "source": [
    "В этом домашнем задании вам предстоит построить классификатор текстов!\n",
    "\n",
    "Данные мы будем использовать из Kaggle соревнования: https://www.kaggle.com/competitions/nlp-getting-started/data Оттуда надо скачать файл train.csv. На обучающую и тестовую выборки его поделим кодом ниже, менять его не надо!"
   ]
  },
  {
   "cell_type": "markdown",
   "metadata": {},
   "source": [
    "Мы будем работать с датасетом постов из твиттера. Нам предстоит решать задачу бинарной классификации - определять содержатся ли в твитте информация о настоящей катастрофе/инциденте или нет."
   ]
  },
  {
   "cell_type": "code",
   "execution_count": 4,
   "metadata": {},
   "outputs": [
    {
     "name": "stderr",
     "output_type": "stream",
     "text": [
      "[nltk_data] Downloading package stopwords to\n",
      "[nltk_data]     C:\\Users\\golov\\AppData\\Roaming\\nltk_data...\n",
      "[nltk_data]   Package stopwords is already up-to-date!\n"
     ]
    }
   ],
   "source": [
    "import pandas as pd\n",
    "from matplotlib import pyplot as plt\n",
    "import seaborn as sns\n",
    "import numpy as np\n",
    "import string\n",
    "from nltk.stem import SnowballStemmer\n",
    "from nltk.tokenize import TweetTokenizer\n",
    "from nltk.corpus import stopwords\n",
    "import nltk\n",
    "from sklearn.linear_model import LogisticRegression \n",
    "from sklearn.feature_extraction.text import TfidfVectorizer\n",
    "nltk.download(\"stopwords\")\n",
    "import re"
   ]
  },
  {
   "cell_type": "code",
   "execution_count": 5,
   "metadata": {},
   "outputs": [],
   "source": [
    "data = pd.read_csv('train.csv')"
   ]
  },
  {
   "cell_type": "code",
   "execution_count": 6,
   "metadata": {},
   "outputs": [
    {
     "data": {
      "text/html": [
       "<div>\n",
       "<style scoped>\n",
       "    .dataframe tbody tr th:only-of-type {\n",
       "        vertical-align: middle;\n",
       "    }\n",
       "\n",
       "    .dataframe tbody tr th {\n",
       "        vertical-align: top;\n",
       "    }\n",
       "\n",
       "    .dataframe thead th {\n",
       "        text-align: right;\n",
       "    }\n",
       "</style>\n",
       "<table border=\"1\" class=\"dataframe\">\n",
       "  <thead>\n",
       "    <tr style=\"text-align: right;\">\n",
       "      <th></th>\n",
       "      <th>id</th>\n",
       "      <th>keyword</th>\n",
       "      <th>location</th>\n",
       "      <th>text</th>\n",
       "      <th>target</th>\n",
       "    </tr>\n",
       "  </thead>\n",
       "  <tbody>\n",
       "    <tr>\n",
       "      <th>0</th>\n",
       "      <td>1</td>\n",
       "      <td>NaN</td>\n",
       "      <td>NaN</td>\n",
       "      <td>Our Deeds are the Reason of this #earthquake M...</td>\n",
       "      <td>1</td>\n",
       "    </tr>\n",
       "    <tr>\n",
       "      <th>1</th>\n",
       "      <td>4</td>\n",
       "      <td>NaN</td>\n",
       "      <td>NaN</td>\n",
       "      <td>Forest fire near La Ronge Sask. Canada</td>\n",
       "      <td>1</td>\n",
       "    </tr>\n",
       "    <tr>\n",
       "      <th>2</th>\n",
       "      <td>5</td>\n",
       "      <td>NaN</td>\n",
       "      <td>NaN</td>\n",
       "      <td>All residents asked to 'shelter in place' are ...</td>\n",
       "      <td>1</td>\n",
       "    </tr>\n",
       "    <tr>\n",
       "      <th>3</th>\n",
       "      <td>6</td>\n",
       "      <td>NaN</td>\n",
       "      <td>NaN</td>\n",
       "      <td>13,000 people receive #wildfires evacuation or...</td>\n",
       "      <td>1</td>\n",
       "    </tr>\n",
       "    <tr>\n",
       "      <th>4</th>\n",
       "      <td>7</td>\n",
       "      <td>NaN</td>\n",
       "      <td>NaN</td>\n",
       "      <td>Just got sent this photo from Ruby #Alaska as ...</td>\n",
       "      <td>1</td>\n",
       "    </tr>\n",
       "  </tbody>\n",
       "</table>\n",
       "</div>"
      ],
      "text/plain": [
       "   id keyword location                                               text  \\\n",
       "0   1     NaN      NaN  Our Deeds are the Reason of this #earthquake M...   \n",
       "1   4     NaN      NaN             Forest fire near La Ronge Sask. Canada   \n",
       "2   5     NaN      NaN  All residents asked to 'shelter in place' are ...   \n",
       "3   6     NaN      NaN  13,000 people receive #wildfires evacuation or...   \n",
       "4   7     NaN      NaN  Just got sent this photo from Ruby #Alaska as ...   \n",
       "\n",
       "   target  \n",
       "0       1  \n",
       "1       1  \n",
       "2       1  \n",
       "3       1  \n",
       "4       1  "
      ]
     },
     "execution_count": 6,
     "metadata": {},
     "output_type": "execute_result"
    }
   ],
   "source": [
    "data.head()"
   ]
  },
  {
   "cell_type": "code",
   "execution_count": 7,
   "metadata": {},
   "outputs": [],
   "source": [
    "from sklearn.model_selection import train_test_split\n",
    "\n",
    "train, test = train_test_split(data, test_size=0.3, random_state=42)"
   ]
  },
  {
   "cell_type": "code",
   "execution_count": 8,
   "metadata": {},
   "outputs": [
    {
     "data": {
      "text/plain": [
       "1186    Ashes 2015: AustraliaÛªs collapse at Trent Br...\n",
       "4071    GREAT MICHIGAN TECHNIQUE CAMP\\nB1G THANKS TO @...\n",
       "5461    CNN: Tennessee movie theater shooting suspect ...\n",
       "5787    Still rioting in a couple of hours left until ...\n",
       "7445    Crack in the path where I wiped out this morni...\n",
       "                              ...                        \n",
       "5226    @Eganator2000 There aren't many Obliteration s...\n",
       "5390    just had a panic attack bc I don't have enough...\n",
       "860     Omron HEM-712C Automatic Blood Pressure Monito...\n",
       "7603    Officials say a quarantine is in place at an A...\n",
       "7270    I moved to England five years ago today. What ...\n",
       "Name: text, Length: 5329, dtype: object"
      ]
     },
     "execution_count": 8,
     "metadata": {},
     "output_type": "execute_result"
    }
   ],
   "source": [
    "train[\"text\"]"
   ]
  },
  {
   "cell_type": "markdown",
   "metadata": {},
   "source": [
    "## Задание 1 (0.5 балла)\n",
    "\n",
    "Выведете на экран информацию о пропусках в данных. Если пропуски присутствуют заполните их пустой строкой."
   ]
  },
  {
   "cell_type": "code",
   "execution_count": 9,
   "metadata": {},
   "outputs": [],
   "source": [
    "train = train.fillna(\"\")\n",
    "test = test.fillna(\"\")"
   ]
  },
  {
   "cell_type": "markdown",
   "metadata": {},
   "source": [
    "## Задание 2 (1 балл)\n",
    "Давайте немного посмотрим на наши данные. Визуализируйте (где явно просят) или выведете информацию о следующем:\n",
    "\n",
    "1. Какое распределение классов в обучающей выборке?\n",
    "2. Посмотрите на колонку \"keyword\" - возьмите 10 наиболее встречающихся значений, постройте ступенчатую диаграмму распределения классов в зависимости от значения keyword, сделайте выводы."
   ]
  },
  {
   "cell_type": "code",
   "execution_count": 10,
   "metadata": {},
   "outputs": [
    {
     "name": "stdout",
     "output_type": "stream",
     "text": [
      "0    3024\n",
      "1    2305\n",
      "Name: target, dtype: int64\n"
     ]
    },
    {
     "data": {
      "image/png": "[encoded data removed]",
      "text/plain": [
       "<Figure size 1440x720 with 1 Axes>"
      ]
     },
     "metadata": {
      "needs_background": "light"
     },
     "output_type": "display_data"
    }
   ],
   "source": [
    "print(train[\"target\"].value_counts())\n",
    "x = train[train[\"keyword\"].isin(train[\"keyword\"].value_counts()[:10].index.to_list())]\n",
    "ax = plt.figure(figsize = (20,10))\n",
    "ax = sns.countplot(x = 'keyword', hue = 'target', data = x)\n",
    "ax.grid()"
   ]
  },
  {
   "cell_type": "markdown",
   "metadata": {},
   "source": [
    "## Задание 3 (0.5 балла) \n",
    "\n",
    "В этом задании предлагается объединить все три текстовых столбца в один (просто сконкатенировать cтроки) и убрать столбец с индексом."
   ]
  },
  {
   "cell_type": "code",
   "execution_count": 11,
   "metadata": {},
   "outputs": [],
   "source": [
    "train = train.drop(\"id\",axis = 1)\n",
    "train[\"concat\"] = train[\"keyword\"] + train[\"location\"] + train[\"text\"]\n",
    "test = test.drop(\"id\",axis = 1)\n",
    "test[\"concat\"] = test[\"keyword\"] + test[\"location\"] + test[\"text\"]"
   ]
  },
  {
   "cell_type": "markdown",
   "metadata": {},
   "source": [
    "## Задание 4 (0.5 балла)\n",
    "\n",
    "Далее мы будем пока работать только с train частью.\n",
    "\n",
    "1. Предобработайте данные (train часть) с помощью CountVectorizer.\n",
    "2. Какого размера получилась матрица?\n"
   ]
  },
  {
   "cell_type": "code",
   "execution_count": 12,
   "metadata": {},
   "outputs": [
    {
     "data": {
      "text/plain": [
       "(5329, 22738)"
      ]
     },
     "execution_count": 12,
     "metadata": {},
     "output_type": "execute_result"
    }
   ],
   "source": [
    "from sklearn.feature_extraction.text import CountVectorizer\n",
    "count = CountVectorizer()\n",
    "count_vector = count.fit_transform(train[\"concat\"])\n",
    "count_vector.shape"
   ]
  },
  {
   "cell_type": "markdown",
   "metadata": {},
   "source": [
    "## Задание 5 (1 балл)\n",
    "\n",
    "В предыдущем пункте у вас должна была получиться достаточно большая матрица.\n",
    "Если вы взгляните на текст, то увидете, что там есть множество специальных символов, ссылок и прочего мусора.\n",
    "\n",
    "Давайте также посмотрим на словарь, который получился в результате построения CountVectorizer, его можно найти в поле vocabulary_ инстанса этого класса. Давайте напишем функцию, которая печает ответы на следующие вопросы:\n",
    "\n",
    "1. Найдите в этом словаре все слова, которые содержат цифры. Сколько таких слов нашлось?\n",
    "\n",
    "2. Найдите все слова, которые содержат символы пунктуации. Сколько таких слов нашлось? \n",
    "\n",
    "3. Сколько хэштегов (токен начинается на #) и упоминаний (токен начинается на @) осталось в словаре?"
   ]
  },
  {
   "cell_type": "code",
   "execution_count": null,
   "metadata": {},
   "outputs": [],
   "source": []
  },
  {
   "cell_type": "code",
   "execution_count": 13,
   "metadata": {},
   "outputs": [],
   "source": [
    "def count_all(vec):\n",
    "    digit_count = 0\n",
    "    punct_count = 0\n",
    "    hash_count = 0\n",
    "    for i in (vec.vocabulary_).keys():\n",
    "        if i[0] == \"#\" or i[0] == \"@\":\n",
    "            hash_count += 1\n",
    "        if any([t.isdigit() for t in i]):\n",
    "            digit_count += 1\n",
    "        if any([t in string.punctuation for t in i]):\n",
    "            punct_count += 1\n",
    "    print(\"Punctuation number =\",punct_count)\n",
    "    print(\"Digits number =\", digit_count)\n",
    "    print(\"Hash number=\", hash_count)"
   ]
  },
  {
   "cell_type": "code",
   "execution_count": 14,
   "metadata": {},
   "outputs": [
    {
     "name": "stdout",
     "output_type": "stream",
     "text": [
      "Punctuation number = 317\n",
      "Digits number = 4590\n",
      "Hash number= 0\n"
     ]
    }
   ],
   "source": [
    "count_all(count)"
   ]
  },
  {
   "cell_type": "markdown",
   "metadata": {},
   "source": [
    "## Задание 6 (0.5 балла)\n",
    "\n",
    "Вспомним, что на семинаре по текстам мы узнали, что в nltk есть специальный токенизатор для текстов - TweetTokenizer. Попробуем применить CountVectorizer с этим токенизатором. Ответьте на все вопросы из предыдущего пункта для TweetTokenizer и сравните результаты."
   ]
  },
  {
   "cell_type": "code",
   "execution_count": 15,
   "metadata": {},
   "outputs": [
    {
     "name": "stdout",
     "output_type": "stream",
     "text": [
      "Punctuation number = 7573\n",
      "Digits number = 4609\n",
      "Hash number= 3152\n"
     ]
    }
   ],
   "source": [
    "\n",
    "#help(TweetTokenizer)\n",
    "count1 = CountVectorizer(tokenizer = TweetTokenizer().tokenize)\n",
    "count_vector1 = count1.fit_transform(train[\"concat\"])\n",
    "count_all(count1)\n"
   ]
  },
  {
   "cell_type": "markdown",
   "metadata": {},
   "source": [
    "## Задание 7 (2 балла)\n",
    "\n",
    "В scikit-learn мы можем оценивать процесс подсчета матрицы через CountVectorizer. У CountVectorizer, как и у других наследников \\_VectorizerMixin, есть аргумент tokenizer и preprocessor. preprocessor применится в самом начале к каждой строке вашего датасета, tokenizer же должен принять строку и вернуть токены.\n",
    "Давайте напишем кастомный токенайзер, которые сделает все, что нам нужно: \n",
    "\n",
    "0. Приведет все буквы к нижнему регистру\n",
    "1. Разобьет текст на токены с помощью TweetTokenizer из пакета nltk\n",
    "2. Удалит все токены содержащие не латинские буквы, кроме смайликов (будем считать ими токены содержащие только пунктуацию и, как минимум, одну скобочку) и хэштегов, которые после начальной # содержат только латинские буквы.\n",
    "3. Удалит все токены, которые перечислены в nltk.corpus.stopwords.words('english')\n",
    "4. Проведет стемминг с помощью SnowballStemmer\n",
    "\n",
    "Продемонстрируйте работу вашей функции на первых десяти текстах в обучающей выборке."
   ]
  },
  {
   "cell_type": "code",
   "execution_count": 44,
   "metadata": {},
   "outputs": [
    {
     "name": "stdout",
     "output_type": "stream",
     "text": [
      "a =  True\n",
      "a =  True\n",
      "s =  False\n",
      "k =  False\n",
      "m =  False\n",
      "x =  False\n",
      "k =  False\n",
      "m =  False\n",
      "s =  False\n",
      "k =  False\n",
      "m =  False\n",
      "x =  False\n"
     ]
    },
    {
     "data": {
      "text/plain": [
       "False"
      ]
     },
     "execution_count": 44,
     "metadata": {},
     "output_type": "execute_result"
    }
   ],
   "source": [
    "for i in \"aaskmxkmskmx\":\n",
    "    print(i + \" = \",i in r\"[a-zA-Z]+\")\n",
    "\"ûªs\".isascii()"
   ]
  },
  {
   "cell_type": "code",
   "execution_count": 45,
   "metadata": {},
   "outputs": [],
   "source": [
    "def sift(array):\n",
    "    brackets = \"{}[]()\"\n",
    "    ans = list()\n",
    "    for i in array:\n",
    "        if i not in nltk.corpus.stopwords.words('english'):\n",
    "            if i.isalpha() and i.isascii():\n",
    "                ans.append(i)\n",
    "            elif i[0] == \"#\" and i[1:].isalpha() and i[1:].isascii() :\n",
    "                ans.append(i)\n",
    "            elif all(j in string.punctuation for j in i) and any(k in brackets for k in i):\n",
    "                ans.append(i)\n",
    "    return ans\n"
   ]
  },
  {
   "cell_type": "code",
   "execution_count": 46,
   "metadata": {},
   "outputs": [],
   "source": [
    "def custom_tokenizer(string):\n",
    "    string = string.lower()\n",
    "    tokenized = TweetTokenizer().tokenize(string)\n",
    "    tokenized = sift(tokenized)\n",
    "    stemmer = SnowballStemmer('english')\n",
    "    tokenized = [stemmer.stem(i) for i in tokenized]\n",
    "    return tokenized\n",
    "    "
   ]
  },
  {
   "cell_type": "code",
   "execution_count": 47,
   "metadata": {
    "scrolled": true
   },
   "outputs": [
    {
     "data": {
      "text/plain": [
       "[['bridg',\n",
       "  'australia',\n",
       "  'collaps',\n",
       "  'trent',\n",
       "  'bridg',\n",
       "  'among',\n",
       "  'worst',\n",
       "  'histori',\n",
       "  'england',\n",
       "  'bundl',\n",
       "  'australia'],\n",
       " ['hailcarol',\n",
       "  'stream',\n",
       "  'illinoisgreat',\n",
       "  'michigan',\n",
       "  'techniqu',\n",
       "  'camp',\n",
       "  'thank',\n",
       "  '#goblu',\n",
       "  '#wrestleon'],\n",
       " ['policehouston',\n",
       "  'cnn',\n",
       "  'tennesse',\n",
       "  'movi',\n",
       "  'theater',\n",
       "  'shoot',\n",
       "  'suspect',\n",
       "  'kill',\n",
       "  'polic'],\n",
       " ['riotingstil', 'riot', 'coupl', 'hour', 'left', 'class'],\n",
       " ['woundslak',\n",
       "  'highlandscrack',\n",
       "  'path',\n",
       "  'wipe',\n",
       "  'morn',\n",
       "  'beach',\n",
       "  'run',\n",
       "  'surfac',\n",
       "  'wound',\n",
       "  'left',\n",
       "  'elbow',\n",
       "  'right',\n",
       "  'knee'],\n",
       " ['airplan',\n",
       "  'thereexpert',\n",
       "  'franc',\n",
       "  'begin',\n",
       "  'examin',\n",
       "  'airplan',\n",
       "  'debri',\n",
       "  'found',\n",
       "  'reunion',\n",
       "  'island',\n",
       "  'french',\n",
       "  'air',\n",
       "  'accid',\n",
       "  'expert',\n",
       "  '#mlb'],\n",
       " ['bloodyisol',\n",
       "  'citi',\n",
       "  'world',\n",
       "  'came',\n",
       "  'kill',\n",
       "  'indian',\n",
       "  'fun',\n",
       "  'video',\n",
       "  'smirk',\n",
       "  'remorseless',\n",
       "  'pakistani',\n",
       "  'killer',\n",
       "  'show',\n",
       "  'boast'],\n",
       " ['burn', 'except', 'idk', 'realli', 'burn'],\n",
       " ['destroyh', '(', 'ask', ')', 'destroy', 'hous'],\n",
       " ['woundedmaracay',\n",
       "  'nirgua',\n",
       "  'venezuelapolic',\n",
       "  'offic',\n",
       "  'wound',\n",
       "  'suspect',\n",
       "  'dead',\n",
       "  'exchang',\n",
       "  'shot']]"
      ]
     },
     "execution_count": 47,
     "metadata": {},
     "output_type": "execute_result"
    }
   ],
   "source": [
    "ans = list()\n",
    "for i in train[\"concat\"].to_list()[:10]:\n",
    "    ans.append(custom_tokenizer(i))\n",
    "ans"
   ]
  },
  {
   "cell_type": "markdown",
   "metadata": {},
   "source": [
    "## Задание 8 (1 балл)\n",
    "\n",
    "1. Примените CountVectorizer с реализованным выше токенизатором к обучающим и тестовым выборкам.\n",
    "2. Обучите LogisticRegression на полученных признаках.\n",
    "3. Посчитайте метрику f1-score на тестовых данных."
   ]
  },
  {
   "cell_type": "code",
   "execution_count": 48,
   "metadata": {},
   "outputs": [],
   "source": [
    "y_train = train[\"target\"]\n",
    "y_test = test[\"target\"]"
   ]
  },
  {
   "cell_type": "code",
   "execution_count": 67,
   "metadata": {},
   "outputs": [
    {
     "name": "stdout",
     "output_type": "stream",
     "text": [
      "              precision    recall  f1-score   support\n",
      "\n",
      "           0       0.79      0.87      0.83      1318\n",
      "           1       0.79      0.69      0.74       966\n",
      "\n",
      "    accuracy                           0.79      2284\n",
      "   macro avg       0.79      0.78      0.79      2284\n",
      "weighted avg       0.79      0.79      0.79      2284\n",
      "\n",
      "0.740618101545254\n"
     ]
    }
   ],
   "source": [
    "from sklearn.metrics import classification_report, roc_auc_score\n",
    "from sklearn.metrics import f1_score\n",
    "count2 = CountVectorizer(tokenizer = custom_tokenizer)\n",
    "cv_train = count2.fit_transform(train[\"concat\"])\n",
    "cv_test = count2.transform(test[\"concat\"])\n",
    "logreg_1 = LogisticRegression(max_iter=300, random_state=42)\n",
    "logreg_1.fit(cv_train, y_train)\n",
    "cv_res = logreg_1.predict(cv_test)\n",
    "print(classification_report(y_test, cv_res))"
   ]
  },
  {
   "cell_type": "markdown",
   "metadata": {},
   "source": [
    "## Задание 9 (1 балл)\n",
    "\n",
    "1. Повторите 7 задание, но с tf-idf векторизатором. Как изменилось качество?\n",
    "2. Мы можем еще сильнее уменьшить размер нашей матрицы, если отбросим значения df близкие к единице. Скорее всего такие слова не несут много информации о категории, так как встречаются достаточно часто. Ограничьте максимальный df в параметрах TfIdfVectorizer, поставьте верхнюю границу равную 0.9. Как изменился размер матрицы, как изменилось качество?\n",
    "3. Также мы можем уменьшить размер матрицы, удаляя слова со слишком маленьким df. Удалось ли добиться улучшения качества? "
   ]
  },
  {
   "cell_type": "code",
   "execution_count": 64,
   "metadata": {},
   "outputs": [
    {
     "name": "stdout",
     "output_type": "stream",
     "text": [
      "              precision    recall  f1-score   support\n",
      "\n",
      "           0       0.71      0.85      0.78      1318\n",
      "           1       0.73      0.53      0.61       966\n",
      "\n",
      "    accuracy                           0.72      2284\n",
      "   macro avg       0.72      0.69      0.69      2284\n",
      "weighted avg       0.72      0.72      0.71      2284\n",
      "\n"
     ]
    }
   ],
   "source": [
    "tf_vect = TfidfVectorizer(tokenizer = custom_tokenizer, max_df = 0.9, min_df = 0.01)\n",
    "tf_train = tf_vect.fit_transform(train[\"concat\"])\n",
    "tf_test = tf_vect.transform(test[\"concat\"])\n",
    "logreg_2 = LogisticRegression(max_iter=300, random_state=42)\n",
    "logreg_2.fit(tf_train, y_train)\n",
    "tf_res = logreg_2.predict(tf_test)\n",
    "print(classification_report(y_test, tf_res))"
   ]
  },
  {
   "cell_type": "markdown",
   "metadata": {},
   "source": [
    "## Задание 10 (1 балл)\n",
    "\n",
    "Еще один популяпный трюк, который позволит уменьшить количество признаков называется hashing trick. Его суть в том, то мы случайно группируем признаки ииии  ..... складываем их! А потом удаляем исходные признаки. В итоге все наши признаки это просто суммы исходных. Звучит странно, но это отлично работает. Давайте проверим этот трюк в нашем сеттинге.\n",
    "Также при таком подходе вам не нужно хранить словарь token->index, что тоже иногда полезно.\n",
    "\n",
    "1. Повторите задание 7 с HashingVectorizer, укажите количество фичей равное 5000.\n",
    "2. Какой из подходов показал самый высокий результат?"
   ]
  },
  {
   "cell_type": "code",
   "execution_count": 65,
   "metadata": {},
   "outputs": [
    {
     "name": "stderr",
     "output_type": "stream",
     "text": [
      "C:\\Users\\golov\\anaconda3\\lib\\site-packages\\sklearn\\feature_extraction\\text.py:489: UserWarning: The parameter 'token_pattern' will not be used since 'tokenizer' is not None'\n",
      "  warnings.warn(\"The parameter 'token_pattern' will not be used\"\n"
     ]
    },
    {
     "name": "stdout",
     "output_type": "stream",
     "text": [
      "              precision    recall  f1-score   support\n",
      "\n",
      "           0       0.77      0.87      0.82      1318\n",
      "           1       0.79      0.64      0.71       966\n",
      "\n",
      "    accuracy                           0.77      2284\n",
      "   macro avg       0.78      0.76      0.76      2284\n",
      "weighted avg       0.78      0.77      0.77      2284\n",
      "\n"
     ]
    }
   ],
   "source": [
    "from sklearn.feature_extraction.text import HashingVectorizer\n",
    "hash_v = HashingVectorizer(tokenizer = custom_tokenizer, n_features = 5000)\n",
    "hashv_train = hash_v.fit_transform(train[\"concat\"])\n",
    "hashv_test = hash_v.transform(test[\"concat\"])\n",
    "logreg_3 = LogisticRegression(max_iter=300, random_state=42)\n",
    "logreg_3.fit(hashv_train, y_train)\n",
    "hashv_res = logreg_3.predict(hashv_test)\n",
    "print(classification_report(y_test, hashv_res))"
   ]
  },
  {
   "cell_type": "markdown",
   "metadata": {},
   "source": [
    "## Задание 11 (1 балл)\n",
    "\n",
    "В этом задании нужно добиться f1 меры хотя в 0.75 на тестовых данных."
   ]
  },
  {
   "cell_type": "code",
   "execution_count": null,
   "metadata": {},
   "outputs": [],
   "source": []
  }
 ],
 "metadata": {
  "kernelspec": {
   "display_name": "Python 3 (ipykernel)",
   "language": "python",
   "name": "python3"
  },
  "language_info": {
   "codemirror_mode": {
    "name": "ipython",
    "version": 3
   },
   "file_extension": ".py",
   "mimetype": "text/x-python",
   "name": "python",
   "nbconvert_exporter": "python",
   "pygments_lexer": "ipython3",
   "version": "3.10.3"
  }
 },
 "nbformat": 4,
 "nbformat_minor": 2
}
